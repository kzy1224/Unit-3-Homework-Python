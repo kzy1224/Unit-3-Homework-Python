{
 "cells": [
  {
   "cell_type": "code",
   "execution_count": 1,
   "metadata": {},
   "outputs": [],
   "source": [
    "import pandas as pd\n",
    "import os,csv\n",
    "from pathlib import Path"
   ]
  },
  {
   "cell_type": "code",
   "execution_count": 2,
   "metadata": {},
   "outputs": [],
   "source": [
    "election_data = \"../Resources/election_data.csv\""
   ]
  },
  {
   "cell_type": "code",
   "execution_count": 3,
   "metadata": {},
   "outputs": [],
   "source": [
    "total_votes = 0\n",
    "charles_votes = 0\n",
    "diana_votes = 0\n",
    "raymon_votes = 0"
   ]
  },
  {
   "cell_type": "code",
   "execution_count": 4,
   "metadata": {},
   "outputs": [],
   "source": [
    "with open(election_data,newline=\"\", encoding=\"utf-8\") as elections:\n",
    "    csvreader = csv.reader(elections,delimiter=\",\")\n",
    "    header = next(csvreader)\n",
    "    for row in csvreader:\n",
    "        total_votes += 1\n",
    "        if row[2] == \"Charles Casper Stockham\":\n",
    "            charles_votes += 1\n",
    "        elif row[2] == \"Diana DeGette\":\n",
    "            diana_votes += 1\n",
    "        elif row[2] == \"Raymon Anthony Doane\":\n",
    "            raymon_votes += 1"
   ]
  },
  {
   "cell_type": "code",
   "execution_count": 5,
   "metadata": {},
   "outputs": [],
   "source": [
    "candidates = [\"charles\", \"diana\", \"raymom\"]\n",
    "votes = [charles_votes,diana_votes,raymon_votes]"
   ]
  },
  {
   "cell_type": "code",
   "execution_count": 6,
   "metadata": {},
   "outputs": [],
   "source": [
    "dict_candidates_and_votes = dict(zip(candidates,votes))\n",
    "key = max(dict_candidates_and_votes, key=dict_candidates_and_votes.get)"
   ]
  },
  {
   "cell_type": "code",
   "execution_count": 7,
   "metadata": {},
   "outputs": [],
   "source": [
    "charles_percent = (charles_votes/total_votes) * 100\n",
    "diana_percent = (diana_votes/total_votes) * 100\n",
    "raymon_percent = (raymon_votes/total_votes) * 100"
   ]
  },
  {
   "cell_type": "code",
   "execution_count": 8,
   "metadata": {},
   "outputs": [
    {
     "name": "stdout",
     "output_type": "stream",
     "text": [
      "Election Results\n",
      "----------------------------\n",
      "Total Votes: 369711\n",
      "----------------------------\n",
      "charles: 23.049% (85213)\n",
      "diana: 73.812% (272892)\n",
      "raymon: 3.139% (11606)\n",
      "----------------------------\n",
      "Winner: diana\n",
      "----------------------------\n"
     ]
    }
   ],
   "source": [
    "print(f\"Election Results\")\n",
    "print(f\"----------------------------\")\n",
    "print(f\"Total Votes: {total_votes}\")\n",
    "print(f\"----------------------------\")\n",
    "print(f\"charles: {charles_percent:.3f}% ({charles_votes})\")\n",
    "print(f\"diana: {diana_percent:.3f}% ({diana_votes})\")\n",
    "print(f\"raymon: {raymon_percent:.3f}% ({raymon_votes})\")\n",
    "print(f\"----------------------------\")\n",
    "print(f\"Winner: {key}\")\n",
    "print(f\"----------------------------\")"
   ]
  },
  {
   "cell_type": "code",
   "execution_count": 10,
   "metadata": {},
   "outputs": [],
   "source": [
    "election_result = \"../Resources/pypoll_analysis.txt\"\n",
    "with open(election_result,\"w\") as file:\n",
    "    file.write(f\"Election Results\")\n",
    "    file.write(\"\\n\")\n",
    "    file.write(f\"----------------------------\")\n",
    "    file.write(\"\\n\")\n",
    "    file.write(f\"Total Votes: {total_votes}\")\n",
    "    file.write(\"\\n\")\n",
    "    file.write(f\"----------------------------\")\n",
    "    file.write(\"\\n\")\n",
    "    file.write(f\"charles: {charles_percent:.3f}% ({charles_votes})\")\n",
    "    file.write(\"\\n\")\n",
    "    file.write(f\"diana: {diana_percent:.3f}% ({diana_votes})\")\n",
    "    file.write(\"\\n\")\n",
    "    file.write(f\"raymon: {raymon_percent:.3f}% ({raymon_votes})\")\n",
    "    file.write(\"\\n\")\n",
    "    file.write(f\"----------------------------\")\n",
    "    file.write(\"\\n\")\n",
    "    file.write(f\"Winner: {key}\")\n",
    "    file.write(\"\\n\")\n",
    "    file.write(f\"----------------------------\")"
   ]
  }
 ],
 "metadata": {
  "interpreter": {
   "hash": "5a8e78e0df41c59f40e124de35afc893d98b77222b4b3a439aa789eb29f6c189"
  },
  "kernelspec": {
   "display_name": "Python 3.6.10 ('PythonData')",
   "language": "python",
   "name": "python3"
  },
  "language_info": {
   "codemirror_mode": {
    "name": "ipython",
    "version": 3
   },
   "file_extension": ".py",
   "mimetype": "text/x-python",
   "name": "python",
   "nbconvert_exporter": "python",
   "pygments_lexer": "ipython3",
   "version": "3.6.10"
  },
  "orig_nbformat": 4
 },
 "nbformat": 4,
 "nbformat_minor": 2
}
